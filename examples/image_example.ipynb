{
 "cells": [
  {
   "cell_type": "code",
   "execution_count": 1,
   "metadata": {},
   "outputs": [
    {
     "name": "stderr",
     "output_type": "stream",
     "text": [
      "2024-04-25 16:56:46.891268: I tensorflow/core/platform/cpu_feature_guard.cc:210] This TensorFlow binary is optimized to use available CPU instructions in performance-critical operations.\n",
      "To enable the following instructions: AVX2 FMA, in other operations, rebuild TensorFlow with the appropriate compiler flags.\n",
      "2024-04-25 16:56:47.447721: W tensorflow/compiler/tf2tensorrt/utils/py_utils.cc:38] TF-TRT Warning: Could not find TensorRT\n"
     ]
    }
   ],
   "source": [
    "import os  \n",
    "import json\n",
    "\n",
    "json_data = json.load(open(\"../cred.json\")) # this or specify manually\n",
    "\n",
    "os.environ[\"MLFLOW_TRACKING_USERNAME\"] = json_data[\"MLFLOW_TRACKING_USERNAME\"]\n",
    "os.environ[\"MLFLOW_TRACKING_PASSWORD\"] = json_data[\"MLFLOW_TRACKING_PASSWORD\"]\n",
    "os.environ[\"MLFLOW_ENABLE_SYSTEM_METRICS_LOGGING\"] = json_data[\"MLFLOW_ENABLE_SYSTEM_METRICS_LOGGING\"]\n",
    "os.environ[\"AWS_DEFAULT_REGION\"] = json_data[\"AWS_DEFAULT_REGION\"]\n",
    "os.environ[\"AWS_REGION\"] = json_data[\"AWS_REGION\"]\n",
    "os.environ[\"AWS_ACCESS_KEY_ID\"] = json_data[\"AWS_ACCESS_KEY_ID\"]\n",
    "os.environ[\"AWS_SECRET_ACCESS_KEY\"] = json_data[\"AWS_SECRET_ACCESS_KEY\"]\n",
    "os.environ[\"MLFLOW_S3_ENDPOINT_URL\"] = json_data[\"MLFLOW_S3_ENDPOINT_URL\"]\n",
    "os.environ[\"MLFLOW_TRACKING_URI\"] = json_data[\"MLFLOW_TRACKING_URI\"]\n",
    "\n",
    "\n",
    "from mlflow import MlflowClient\n",
    "\n",
    "from mlflow.server import get_app_client\n",
    "import mlflow.pytorch\n",
    "import mlflow.keras\n",
    "import mlflow\n",
    "from mlflow.models import infer_signature\n",
    "\n",
    "import matplotlib.pyplot as plt\n",
    "\n",
    "import keras\n",
    "import torch\n",
    "\n",
    "import numpy as np\n",
    "import pandas as pd\n",
    "\n",
    "mlflow.set_experiment(\"my-experiment\") # change the name of the experiment to your liking\n",
    "\n",
    "\n",
    "# data x is an arrau of 10x10 images of random numbers\n",
    "data_X = []\n",
    "for i in range(100):\n",
    "    data_X.append(np.random.rand(10,10))\n",
    "\n",
    "\n",
    "\n",
    "data_y = np.random.rand(100,4)\n"
   ]
  },
  {
   "cell_type": "code",
   "execution_count": 2,
   "metadata": {},
   "outputs": [
    {
     "ename": "NameError",
     "evalue": "name 'ExampleImagetoScalarModel' is not defined",
     "output_type": "error",
     "traceback": [
      "\u001b[0;31m---------------------------------------------------------------------------\u001b[0m",
      "\u001b[0;31mNameError\u001b[0m                                 Traceback (most recent call last)",
      "Cell \u001b[0;32mIn[2], line 27\u001b[0m\n\u001b[1;32m     23\u001b[0m     \u001b[38;5;28;01mdef\u001b[39;00m \u001b[38;5;21mget_model\u001b[39m(\u001b[38;5;28mself\u001b[39m): \u001b[38;5;66;03m# since we are using a non-lume model we define this function to return the model\u001b[39;00m\n\u001b[1;32m     24\u001b[0m         \u001b[38;5;28;01mreturn\u001b[39;00m \u001b[38;5;28mself\u001b[39m\u001b[38;5;241m.\u001b[39mmodel\n\u001b[0;32m---> 27\u001b[0m image_to_scalar_model \u001b[38;5;241m=\u001b[39m \u001b[43mExampleImagetoScalarModel\u001b[49m()\n\u001b[1;32m     29\u001b[0m model \u001b[38;5;241m=\u001b[39m MyModel(\u001b[38;5;124m\"\u001b[39m\u001b[38;5;124mmodel1\u001b[39m\u001b[38;5;124m\"\u001b[39m, image_to_scalar_model)\n\u001b[1;32m     31\u001b[0m input_sample \u001b[38;5;241m=\u001b[39m {\u001b[38;5;124m\"\u001b[39m\u001b[38;5;124mimage\u001b[39m\u001b[38;5;124m\"\u001b[39m: data_X[\u001b[38;5;241m0\u001b[39m]}\n",
      "\u001b[0;31mNameError\u001b[0m: name 'ExampleImagetoScalarModel' is not defined"
     ]
    }
   ],
   "source": [
    "### GENERIC MODEL EXAMPLE\n",
    "\n",
    "from model_definition import ExampleImageModel\n",
    "\n",
    "\n",
    "# basic wrapper we use to take advantage of mlflow logging\n",
    "class MyModel(mlflow.pyfunc.PythonModel):\n",
    "    def __init__(self, model_name, model):\n",
    "        self.model_name = model_name\n",
    "        self.model = model\n",
    "    \n",
    "    def predict(self, context, input, **kwargs):\n",
    "        return self.model.evaluate(input)\n",
    "    \n",
    "    def save_model(self):\n",
    "        with open(f\"{self.model_name}.txt\", \"w\") as f:\n",
    "            f.write(\"model saved\")\n",
    "\n",
    "    def load_model(self):\n",
    "        with open(f\"{self.model_name}.txt\", \"r\") as f:\n",
    "            return f.read()\n",
    "        \n",
    "    def get_model(self): # since we are using a non-lume model we define this function to return the model\n",
    "        return self.model\n",
    "    \n",
    "    \n",
    "image_to_scalar_model = ExampleImageModel()\n",
    "\n",
    "model = MyModel(\"model1\", image_to_scalar_model)\n",
    "\n",
    "input_sample = {\"image\": data_X[0]}\n",
    "\n",
    "with mlflow.start_run() as run:  # you can use run_name=\"test1\" to give a name to the run otherwise it will a random name\n",
    "\n",
    "    \n",
    "    # set some tags for the experiment\n",
    "    mlflow.set_tag(\"exp_tag1\", \"exp_tag_value1\")\n",
    "    mlflow.set_tag(\"exp_tag2\", \"exp_tag_value2\")\n",
    "    mlflow.set_tag(\"exp_tag3\", \"exp_tag_value3\")\n",
    "    \n",
    "    # model.save_model() # no need to save the model since it is saved in log_model\n",
    "    mlflow.log_param(\"model_name\", model.model_name)\n",
    "    mlflow.log_param(\"dummy_param1\", \"dummy_value1\")\n",
    "    mlflow.log_param(\"dummy_param2\", 0.33)\n",
    "    for i in range(10):        \n",
    "        mlflow.log_metric(\"metric1\", (i / 10) ** 2 , step=i)\n",
    "        mlflow.log_metric(\"metric2\", (i / 10) ** 3 , step=i)\n",
    "        mlflow.log_metric(\"loss\", (1 / (i + 0.1) + np.random.normal(0, 0.1)) , step=i)\n",
    "\n",
    "    # lets make some pretty graphs to store\n",
    "\n",
    "    graph = plt.figure()\n",
    "    plt.plot(range(100), [(i / 10) ** 2 for i in range(100)])\n",
    "    mlflow.log_figure(graph, \"figures/metric1.png\")\n",
    "\n",
    "    # alternative way to log a figure\n",
    "    graph = plt.figure()\n",
    "    plt.plot(range(100), [(i / 10) ** 3 for i in range(100)])\n",
    "    graph.savefig(\"metric2.png\")\n",
    "    mlflow.log_artifact(\"metric2.png\", artifact_path=\"figures\")\n",
    "    \n",
    "    model_info = mlflow.pyfunc.log_model(\n",
    "        artifact_path=\"model_files\",\n",
    "        python_model=model,\n",
    "        signature=infer_signature(input_sample, model.predict(None, input = input_sample)),\n",
    "        input_example=input_sample,\n",
    "        code_path=[\"model_definition.py\"],\n",
    "        extra_pip_requirements=[\"paho-mqtt\"] # example dependancy\n",
    "        # registered_model_name=\"generic_model\", # this will automatically register the model and iterate the version\n",
    "     )\n",
    "\n",
    "    # if you wanna log the model without the wrapper\n",
    "    model.save_model()\n",
    "    mlflow.log_artifact(\n",
    "        f\"{model.model_name}.txt\", artifact_path=\"model_files_no_mlflow\"\n",
    "    )\n",
    "    mlflow.log_artifact(\n",
    "        f\"./image_model/pv_mapping.yaml\", artifact_path=\"image_model\"\n",
    "    )"
   ]
  },
  {
   "cell_type": "code",
   "execution_count": null,
   "metadata": {},
   "outputs": [
    {
     "name": "stdout",
     "output_type": "stream",
     "text": [
      "runs:/a1cf987546c641d9925a27986f44709d/model_files\n"
     ]
    },
    {
     "name": "stderr",
     "output_type": "stream",
     "text": [
      "2024/04/25 16:07:09 INFO mlflow.store.model_registry.abstract_store: Waiting up to 300 seconds for model version to finish creation. Model name: image_model, version 15\n"
     ]
    }
   ],
   "source": [
    "# specifc model uris\n",
    "print(model_info.model_uri)\n",
    "\n",
    "# lets register the models if they are not already this step is necessary for deployment\n",
    "client = MlflowClient()\n",
    "try:\n",
    "    client.create_registered_model(\"image_model\")\n",
    "    \n",
    "except:\n",
    "    pass\n",
    "\n",
    "# create new model versions\n",
    "\n",
    "# str(dict_model)\n",
    "result_generic = client.create_model_version(\n",
    "    name=\"image_model\",\n",
    "    source=model_info.model_uri,\n",
    "    run_id=model_info.run_id,\n",
    "    tags={\"tests\": \"passed\", \"framework\": \"pyfunc\"},\n",
    ")\n",
    "\n",
    "client.set_registered_model_alias(\"image_model\", \"champion\", result_generic.version)"
   ]
  },
  {
   "cell_type": "code",
   "execution_count": null,
   "metadata": {},
   "outputs": [
    {
     "name": "stderr",
     "output_type": "stream",
     "text": [
      "/home/mateuszl/miniconda3/envs/mlflow/lib/python3.11/site-packages/tqdm/auto.py:21: TqdmWarning: IProgress not found. Please update jupyter and ipywidgets. See https://ipywidgets.readthedocs.io/en/stable/user_install.html\n",
      "  from .autonotebook import tqdm as notebook_tqdm\n",
      "Downloading artifacts:   0%|          | 0/13 [00:00<?, ?it/s]2024/04/25 16:07:10 INFO mlflow.store.artifact.artifact_repo: The progress bar can be disabled by setting the environment variable MLFLOW_ENABLE_ARTIFACTS_PROGRESS_BAR to false\n",
      "Downloading artifacts: 100%|██████████| 13/13 [00:00<00:00, 2075.28it/s]\n",
      "2024/04/25 16:07:10 WARNING mlflow.utils.requirements_utils: Detected one or more mismatches between the model's dependencies and the current Python environment:\n",
      " - paho-mqtt (current: uninstalled, required: paho-mqtt)\n",
      "To fix the mismatches, call `mlflow.pyfunc.get_model_dependencies(model_uri)` to fetch the model's environment and install dependencies using the resulting environment file.\n"
     ]
    },
    {
     "name": "stdout",
     "output_type": "stream",
     "text": [
      "Generic model\n",
      "mlflow.pyfunc.loaded_model:\n",
      "  artifact_path: model_files\n",
      "  flavor: mlflow.pyfunc.model\n",
      "  run_id: a1cf987546c641d9925a27986f44709d\n",
      " <class 'mlflow.pyfunc.PyFuncModel'>\n",
      "{'y_max': 0.9994502055307178, 'y_min': 0.01400635847095133, 'y_mean': 0.5094840416651314, 'y_std': 0.288034075918948, 'y_img': array([[0.99841768, 0.43028685, 0.22474637, 0.63235372, 0.57161353,\n",
      "        0.31120302, 0.48686527, 0.1488162 , 0.62756834, 0.71994249],\n",
      "       [0.81571866, 0.39563667, 0.6483035 , 0.0988132 , 0.83533513,\n",
      "        0.70355584, 0.68311632, 0.94380233, 0.72476252, 0.51758787],\n",
      "       [0.72121893, 0.95623289, 0.68434221, 0.28153324, 0.78902283,\n",
      "        0.01400636, 0.71171367, 0.06660766, 0.5107851 , 0.72845431],\n",
      "       [0.15855509, 0.99945021, 0.57587852, 0.82509589, 0.87546086,\n",
      "        0.03925737, 0.63127401, 0.15518486, 0.76810851, 0.02201381],\n",
      "       [0.0952866 , 0.77169096, 0.66216321, 0.41487183, 0.50536688,\n",
      "        0.12196302, 0.94732422, 0.59881388, 0.86118101, 0.24275142],\n",
      "       [0.12712625, 0.26130296, 0.44240538, 0.82082563, 0.4184856 ,\n",
      "        0.76342339, 0.12480753, 0.76009611, 0.06709701, 0.32422676],\n",
      "       [0.02867992, 0.59635061, 0.8821655 , 0.20774773, 0.4139143 ,\n",
      "        0.2284819 , 0.20575766, 0.44424791, 0.20410272, 0.6704479 ],\n",
      "       [0.7834538 , 0.95861303, 0.36766583, 0.52995353, 0.59962173,\n",
      "        0.06424177, 0.26838034, 0.253067  , 0.9165882 , 0.55195027],\n",
      "       [0.71537156, 0.7187656 , 0.90317828, 0.05006194, 0.50018595,\n",
      "        0.38581571, 0.78913393, 0.36471818, 0.04032833, 0.86470417],\n",
      "       [0.02798896, 0.31502007, 0.47877087, 0.25831283, 0.60471153,\n",
      "        0.97823287, 0.42673927, 0.76054067, 0.46863151, 0.75790878]])}\n"
     ]
    }
   ],
   "source": [
    "# get model ids from registered models\n",
    "image_model  = mlflow.pyfunc.load_model(f\"models:/image_model@champion\")\n",
    "\n",
    "# # get model info\n",
    "print(\"Generic model\")\n",
    "print(image_model, type(image_model))\n",
    "\n",
    "test_input = {\"image\": data_X[0]}\n",
    "\n",
    "print(image_model.predict(test_input))"
   ]
  },
  {
   "cell_type": "code",
   "execution_count": null,
   "metadata": {},
   "outputs": [],
   "source": [
    "test_input = {\"image\": data_X[1]}"
   ]
  },
  {
   "cell_type": "code",
   "execution_count": null,
   "metadata": {},
   "outputs": [
    {
     "data": {
      "image/png": "[encoded data removed]",
      "text/plain": [
       "<Figure size 640x480 with 1 Axes>"
      ]
     },
     "metadata": {},
     "output_type": "display_data"
    },
    {
     "data": {
      "image/png": "[encoded data removed]",
      "text/plain": [
       "<Figure size 640x480 with 1 Axes>"
      ]
     },
     "metadata": {},
     "output_type": "display_data"
    }
   ],
   "source": [
    "from matplotlib import pyplot as plt\n",
    "\n",
    "output = image_model.predict(test_input)\n",
    "\n",
    "plt.imshow(test_input[\"image\"])\n",
    "plt.show()\n",
    "\n",
    "plt.figure()\n",
    "\n",
    "plt.imshow(output[\"y_img\"])\n",
    "plt.show()"
   ]
  }
 ],
 "metadata": {
  "kernelspec": {
   "display_name": "Python 3",
   "language": "python",
   "name": "python3"
  },
  "language_info": {
   "codemirror_mode": {
    "name": "ipython",
    "version": 3
   },
   "file_extension": ".py",
   "mimetype": "text/x-python",
   "name": "python",
   "nbconvert_exporter": "python",
   "pygments_lexer": "ipython3",
   "version": "3.11.8"
  }
 },
 "nbformat": 4,
 "nbformat_minor": 2
}

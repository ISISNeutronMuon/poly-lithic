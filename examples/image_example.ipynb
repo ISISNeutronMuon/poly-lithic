{
 "cells": [
  {
   "cell_type": "code",
   "execution_count": 1,
   "metadata": {},
   "outputs": [
    {
     "name": "stderr",
     "output_type": "stream",
     "text": [
      "2024-04-30 14:34:11.474560: I tensorflow/core/platform/cpu_feature_guard.cc:210] This TensorFlow binary is optimized to use available CPU instructions in performance-critical operations.\n",
      "To enable the following instructions: AVX2 FMA, in other operations, rebuild TensorFlow with the appropriate compiler flags.\n",
      "2024-04-30 14:34:12.037111: W tensorflow/compiler/tf2tensorrt/utils/py_utils.cc:38] TF-TRT Warning: Could not find TensorRT\n"
     ]
    }
   ],
   "source": [
    "import os  \n",
    "import json\n",
    "\n",
    "json_data = json.load(open(\"../cred.json\")) # this or specify manually\n",
    "\n",
    "os.environ[\"MLFLOW_TRACKING_USERNAME\"] = json_data[\"MLFLOW_TRACKING_USERNAME\"]\n",
    "os.environ[\"MLFLOW_TRACKING_PASSWORD\"] = json_data[\"MLFLOW_TRACKING_PASSWORD\"]\n",
    "os.environ[\"MLFLOW_ENABLE_SYSTEM_METRICS_LOGGING\"] = json_data[\"MLFLOW_ENABLE_SYSTEM_METRICS_LOGGING\"]\n",
    "os.environ[\"AWS_DEFAULT_REGION\"] = json_data[\"AWS_DEFAULT_REGION\"]\n",
    "os.environ[\"AWS_REGION\"] = json_data[\"AWS_REGION\"]\n",
    "os.environ[\"AWS_ACCESS_KEY_ID\"] = json_data[\"AWS_ACCESS_KEY_ID\"]\n",
    "os.environ[\"AWS_SECRET_ACCESS_KEY\"] = json_data[\"AWS_SECRET_ACCESS_KEY\"]\n",
    "os.environ[\"MLFLOW_S3_ENDPOINT_URL\"] = json_data[\"MLFLOW_S3_ENDPOINT_URL\"]\n",
    "os.environ[\"MLFLOW_TRACKING_URI\"] = json_data[\"MLFLOW_TRACKING_URI\"]\n",
    "\n",
    "\n",
    "from mlflow import MlflowClient\n",
    "\n",
    "from mlflow.server import get_app_client\n",
    "import mlflow.pytorch\n",
    "import mlflow.keras\n",
    "import mlflow\n",
    "from mlflow.models import infer_signature\n",
    "\n",
    "import matplotlib.pyplot as plt\n",
    "\n",
    "import keras\n",
    "import torch\n",
    "\n",
    "import numpy as np\n",
    "import pandas as pd\n",
    "\n",
    "mlflow.set_experiment(\"my-experiment\") # change the name of the experiment to your liking\n",
    "\n",
    "\n",
    "# data x is an arrau of 10x10 images of random numbers\n",
    "data_X = []\n",
    "for i in range(100):\n",
    "    data_X.append(np.random.rand(10,10))\n",
    "\n",
    "\n",
    "\n",
    "data_y = np.random.rand(100,4)\n"
   ]
  },
  {
   "cell_type": "code",
   "execution_count": 4,
   "metadata": {},
   "outputs": [
    {
     "ename": "ImportError",
     "evalue": "attempted relative import with no known parent package",
     "output_type": "error",
     "traceback": [
      "\u001b[0;31m---------------------------------------------------------------------------\u001b[0m",
      "\u001b[0;31mImportError\u001b[0m                               Traceback (most recent call last)",
      "Cell \u001b[0;32mIn[4], line 3\u001b[0m\n\u001b[1;32m      1\u001b[0m \u001b[38;5;66;03m### GENERIC MODEL EXAMPLE\u001b[39;00m\n\u001b[0;32m----> 3\u001b[0m \u001b[38;5;28;01mfrom\u001b[39;00m \u001b[38;5;21;01m.\u001b[39;00m\u001b[38;5;21;01mimage\u001b[39;00m\u001b[38;5;21;01m.\u001b[39;00m\u001b[38;5;21;01mimage_model\u001b[39;00m \u001b[38;5;28;01mimport\u001b[39;00m ExampleImageModel\n\u001b[1;32m      6\u001b[0m \u001b[38;5;66;03m# basic wrapper we use to take advantage of mlflow logging\u001b[39;00m\n\u001b[1;32m      7\u001b[0m \u001b[38;5;28;01mclass\u001b[39;00m \u001b[38;5;21;01mMyModel\u001b[39;00m(mlflow\u001b[38;5;241m.\u001b[39mpyfunc\u001b[38;5;241m.\u001b[39mPythonModel):\n",
      "\u001b[0;31mImportError\u001b[0m: attempted relative import with no known parent package"
     ]
    }
   ],
   "source": [
    "### GENERIC MODEL EXAMPLE\n",
    "\n",
    "from image.image_model import ExampleImageModel\n",
    "\n",
    "\n",
    "# basic wrapper we use to take advantage of mlflow logging\n",
    "class MyModel(mlflow.pyfunc.PythonModel):\n",
    "    def __init__(self, model_name, model):\n",
    "        self.model_name = model_name\n",
    "        self.model = model\n",
    "    \n",
    "    def predict(self, context, input, **kwargs):\n",
    "        return self.model.evaluate(input)\n",
    "    \n",
    "    def save_model(self):\n",
    "        with open(f\"{self.model_name}.txt\", \"w\") as f:\n",
    "            f.write(\"model saved\")\n",
    "\n",
    "    def load_model(self):\n",
    "        with open(f\"{self.model_name}.txt\", \"r\") as f:\n",
    "            return f.read()\n",
    "        \n",
    "    def get_model(self): # since we are using a non-lume model we define this function to return the model\n",
    "        return self.model\n",
    "    \n",
    "    \n",
    "image_to_scalar_model = ExampleImageModel()\n",
    "\n",
    "model = MyModel(\"model1\", image_to_scalar_model)\n",
    "\n",
    "input_sample = {\"image\": data_X[0]}\n",
    "\n",
    "with mlflow.start_run() as run:  # you can use run_name=\"test1\" to give a name to the run otherwise it will a random name\n",
    "\n",
    "    \n",
    "    # set some tags for the experiment\n",
    "    mlflow.set_tag(\"exp_tag1\", \"exp_tag_value1\")\n",
    "    mlflow.set_tag(\"exp_tag2\", \"exp_tag_value2\")\n",
    "    mlflow.set_tag(\"exp_tag3\", \"exp_tag_value3\")\n",
    "    \n",
    "    # model.save_model() # no need to save the model since it is saved in log_model\n",
    "    mlflow.log_param(\"model_name\", model.model_name)\n",
    "    mlflow.log_param(\"dummy_param1\", \"dummy_value1\")\n",
    "    mlflow.log_param(\"dummy_param2\", 0.33)\n",
    "    for i in range(10):        \n",
    "        mlflow.log_metric(\"metric1\", (i / 10) ** 2 , step=i)\n",
    "        mlflow.log_metric(\"metric2\", (i / 10) ** 3 , step=i)\n",
    "        mlflow.log_metric(\"loss\", (1 / (i + 0.1) + np.random.normal(0, 0.1)) , step=i)\n",
    "\n",
    "    # lets make some pretty graphs to store\n",
    "\n",
    "    graph = plt.figure()\n",
    "    plt.plot(range(100), [(i / 10) ** 2 for i in range(100)])\n",
    "    mlflow.log_figure(graph, \"figures/metric1.png\")\n",
    "\n",
    "    # alternative way to log a figure\n",
    "    graph = plt.figure()\n",
    "    plt.plot(range(100), [(i / 10) ** 3 for i in range(100)])\n",
    "    graph.savefig(\"metric2.png\")\n",
    "    mlflow.log_artifact(\"metric2.png\", artifact_path=\"figures\")\n",
    "    \n",
    "    model_info = mlflow.pyfunc.log_model(\n",
    "        artifact_path=\"model_files\",\n",
    "        python_model=model,\n",
    "        signature=infer_signature(input_sample, model.predict(None, input = input_sample)),\n",
    "        input_example=input_sample,\n",
    "        code_path=[\"model_definition.py\"],\n",
    "        extra_pip_requirements=[\"paho-mqtt\"] # example dependancy\n",
    "        # registered_model_name=\"generic_model\", # this will automatically register the model and iterate the version\n",
    "     )\n",
    "\n",
    "    # if you wanna log the model without the wrapper\n",
    "    model.save_model()\n",
    "    mlflow.log_artifact(\n",
    "        f\"{model.model_name}.txt\", artifact_path=\"model_files_no_mlflow\"\n",
    "    )\n",
    "    mlflow.log_artifact(\n",
    "        f\"./image/pv_mapping.yaml\", artifact_path=\"image_model\"\n",
    "    )"
   ]
  },
  {
   "cell_type": "code",
   "execution_count": null,
   "metadata": {},
   "outputs": [
    {
     "name": "stdout",
     "output_type": "stream",
     "text": [
      "runs:/aa3b31f870f848ad94d5a7aeef8853f6/model_files\n"
     ]
    },
    {
     "name": "stderr",
     "output_type": "stream",
     "text": [
      "2024/04/30 09:51:32 INFO mlflow.store.model_registry.abstract_store: Waiting up to 300 seconds for model version to finish creation. Model name: image_model, version 26\n"
     ]
    }
   ],
   "source": [
    "# specifc model uris\n",
    "print(model_info.model_uri)\n",
    "\n",
    "# lets register the models if they are not already this step is necessary for deployment\n",
    "client = MlflowClient()\n",
    "try:\n",
    "    client.create_registered_model(\"image_model\")\n",
    "    \n",
    "except:\n",
    "    pass\n",
    "\n",
    "# create new model versions\n",
    "\n",
    "# str(dict_model)\n",
    "result_generic = client.create_model_version(\n",
    "    name=\"image_model\",\n",
    "    source=model_info.model_uri,\n",
    "    run_id=model_info.run_id,\n",
    "    tags={\"tests\": \"passed\", \"framework\": \"pyfunc\"},\n",
    ")\n",
    "\n",
    "client.set_registered_model_alias(\"image_model\", \"champion\", result_generic.version)"
   ]
  },
  {
   "cell_type": "code",
   "execution_count": null,
   "metadata": {},
   "outputs": [
    {
     "name": "stderr",
     "output_type": "stream",
     "text": [
      "Downloading artifacts:   0%|          | 0/13 [00:00<?, ?it/s]2024/04/30 09:51:33 INFO mlflow.store.artifact.artifact_repo: The progress bar can be disabled by setting the environment variable MLFLOW_ENABLE_ARTIFACTS_PROGRESS_BAR to false\n",
      "Downloading artifacts: 100%|██████████| 13/13 [00:00<00:00, 1853.99it/s]\n",
      "2024/04/30 09:51:33 WARNING mlflow.utils.requirements_utils: Detected one or more mismatches between the model's dependencies and the current Python environment:\n",
      " - paho-mqtt (current: uninstalled, required: paho-mqtt)\n",
      "To fix the mismatches, call `mlflow.pyfunc.get_model_dependencies(model_uri)` to fetch the model's environment and install dependencies using the resulting environment file.\n"
     ]
    },
    {
     "name": "stdout",
     "output_type": "stream",
     "text": [
      "Generic model\n",
      "mlflow.pyfunc.loaded_model:\n",
      "  artifact_path: model_files\n",
      "  flavor: mlflow.pyfunc.model\n",
      "  run_id: aa3b31f870f848ad94d5a7aeef8853f6\n",
      " <class 'mlflow.pyfunc.PyFuncModel'>\n",
      "{'y_max': 0.9492241549604836, 'y_min': 0.008328163150936319, 'y_mean': 0.47031417955636556, 'y_std': 0.27809463059151907, 'y_img': array([[6.02390060e-01, 6.93583015e-05, 6.93583015e-05, 6.93583015e-05,\n",
      "        6.93583015e-05, 4.55057092e-01, 6.93583015e-05, 5.57904735e-01,\n",
      "        5.82867842e-01, 6.93583015e-05],\n",
      "       [6.93583015e-05, 8.42300698e-01, 6.93583015e-05, 6.93583015e-05,\n",
      "        6.93583015e-05, 6.93583015e-05, 8.16664254e-01, 8.00596281e-01,\n",
      "        6.93583015e-05, 6.93583015e-05],\n",
      "       [6.93583015e-05, 6.93583015e-05, 6.93583015e-05, 6.93583015e-05,\n",
      "        9.01026496e-01, 6.64382200e-01, 6.93583015e-05, 6.93583015e-05,\n",
      "        6.93583015e-05, 7.00144466e-01],\n",
      "       [6.93583015e-05, 6.93583015e-05, 6.93583015e-05, 6.93583015e-05,\n",
      "        6.93583015e-05, 6.93583015e-05, 6.93583015e-05, 6.93583015e-05,\n",
      "        6.93583015e-05, 6.93583015e-05],\n",
      "       [5.48953174e-01, 6.93583015e-05, 7.80438514e-01, 6.58985457e-01,\n",
      "        6.93583015e-05, 6.93583015e-05, 6.93583015e-05, 6.93583015e-05,\n",
      "        6.93583015e-05, 6.93583015e-05],\n",
      "       [7.19028973e-01, 8.21870882e-01, 6.00694080e-01, 6.93583015e-05,\n",
      "        6.93583015e-05, 6.93583015e-05, 6.93583015e-05, 5.84928615e-01,\n",
      "        6.93583015e-05, 6.93583015e-05],\n",
      "       [5.04543858e-01, 6.93583015e-05, 6.93583015e-05, 8.69459379e-01,\n",
      "        7.66475022e-01, 6.93583015e-05, 6.93583015e-05, 6.93583015e-05,\n",
      "        8.61464528e-01, 7.54526559e-01],\n",
      "       [6.93583015e-05, 6.93583015e-05, 6.93583015e-05, 7.85864052e-01,\n",
      "        6.93583015e-05, 6.93583015e-05, 6.93583015e-05, 6.93583015e-05,\n",
      "        6.93583015e-05, 5.88245264e-01],\n",
      "       [6.93583015e-05, 6.93583015e-05, 6.93583015e-05, 6.93583015e-05,\n",
      "        6.93583015e-05, 6.93583015e-05, 6.53021649e-01, 6.93583015e-05,\n",
      "        6.93583015e-05, 6.93583015e-05],\n",
      "       [6.93583015e-05, 5.17117319e-01, 6.93583015e-05, 6.93583015e-05,\n",
      "        8.56624662e-01, 6.93583015e-05, 6.93583015e-05, 6.93583015e-05,\n",
      "        6.93583015e-05, 6.93583015e-05]])}\n"
     ]
    }
   ],
   "source": [
    "# get model ids from registered models\n",
    "image_model  = mlflow.pyfunc.load_model(f\"models:/image_model@champion\")\n",
    "\n",
    "# # get model info\n",
    "print(\"Generic model\")\n",
    "print(image_model, type(image_model))\n",
    "\n",
    "test_input = {\"image\": data_X[0]}\n",
    "\n",
    "print(image_model.predict(test_input))"
   ]
  },
  {
   "cell_type": "code",
   "execution_count": null,
   "metadata": {},
   "outputs": [],
   "source": [
    "test_input = {\"image\": data_X[1]}"
   ]
  },
  {
   "cell_type": "code",
   "execution_count": null,
   "metadata": {},
   "outputs": [
    {
     "data": {
      "image/png": "[encoded data removed]",
      "text/plain": [
       "<Figure size 640x480 with 1 Axes>"
      ]
     },
     "metadata": {},
     "output_type": "display_data"
    },
    {
     "data": {
      "image/png": "[encoded data removed]",
      "text/plain": [
       "<Figure size 640x480 with 1 Axes>"
      ]
     },
     "metadata": {},
     "output_type": "display_data"
    }
   ],
   "source": [
    "from matplotlib import pyplot as plt\n",
    "\n",
    "output = image_model.predict(test_input)\n",
    "\n",
    "plt.imshow(test_input[\"image\"])\n",
    "plt.show()\n",
    "\n",
    "plt.figure()\n",
    "\n",
    "plt.imshow(output[\"y_img\"])\n",
    "plt.show()"
   ]
  }
 ],
 "metadata": {
  "kernelspec": {
   "display_name": "Python 3",
   "language": "python",
   "name": "python3"
  },
  "language_info": {
   "codemirror_mode": {
    "name": "ipython",
    "version": 3
   },
   "file_extension": ".py",
   "mimetype": "text/x-python",
   "name": "python",
   "nbconvert_exporter": "python",
   "pygments_lexer": "ipython3",
   "version": "3.11.8"
  }
 },
 "nbformat": 4,
 "nbformat_minor": 2
}
